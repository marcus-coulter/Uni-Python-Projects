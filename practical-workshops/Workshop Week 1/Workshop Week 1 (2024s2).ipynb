{
 "cells": [
  {
   "cell_type": "markdown",
   "metadata": {},
   "source": [
    "# COMP2200/COMP6200 Week 1 Practical"
   ]
  },
  {
   "cell_type": "markdown",
   "metadata": {},
   "source": [
    "The goal of this week's practical is to get you started using Python, Jupyter Notebooks, and Git, three tools that you will use through the semester in your work.  \n",
    "\n",
    "**Python** is our language of choice in COMP2200/COMP6200. If you do not have any experience of using Python, you need to learn basic Python coding.\n",
    "\n",
    "You are looking at a **Jupyter Notebook**, it is a document that mixes text, code and the output of the code. A lot of your work will be creating notebooks like this to present your analysis.  \n",
    "\n",
    "**Git** is a distributed version control system (DVCS), you will use it to keep track of your work and ensure that you have a backup copy of what you are doing. You should have checked this notebook out of **Github** using Git. Your task this week is to complete some programming work in this worksheet and commit your changes to your own Bitbucket repository."
   ]
  },
  {
   "cell_type": "markdown",
   "metadata": {},
   "source": [
    "## Python Basics"
   ]
  },
  {
   "cell_type": "markdown",
   "metadata": {},
   "source": [
    "Your task this week is to complete some basic programming tasks with Python in this worksheet.  There are questions below with a space for you to write code to achieve the given outcomes. Write the code, test it, and when you are done, submit your work as described at the end of the notebook. \n",
    "\n",
    "The tasks aren't meant to be complicated Python problems, just some simple tasks to get you started with this process.  "
   ]
  },
  {
   "cell_type": "markdown",
   "metadata": {},
   "source": [
    "### Examples - basics\n",
    "- How to define a variable\n",
    "- How to perform some basic arithmatic operation\n",
    "- How to use a constant"
   ]
  },
  {
   "cell_type": "code",
   "execution_count": 1,
   "metadata": {},
   "outputs": [
    {
     "name": "stdout",
     "output_type": "stream",
     "text": [
      "The area of the circle is:  78.53981633974483\n"
     ]
    }
   ],
   "source": [
    "# Let's show an example of calculating the area of a circle\n",
    "\n",
    "# Define the radius\n",
    "radius = 5\n",
    "\n",
    "# Then we can calculate the area. \n",
    "# We need to make use of a constant PI (around 3.1415926), which is defined in the module math\n",
    "import math\n",
    "\n",
    "area = math.pi * radius * radius\n",
    "\n",
    "print(\"The area of the circle is: \", area)\n"
   ]
  },
  {
   "cell_type": "markdown",
   "metadata": {},
   "source": [
    "- How to use a built-in function\n",
    "\n",
    "To calculate the the squared radius \"raius*radius\", we could also use the built-in function pow() in the math module."
   ]
  },
  {
   "cell_type": "code",
   "execution_count": 3,
   "metadata": {},
   "outputs": [
    {
     "name": "stdout",
     "output_type": "stream",
     "text": [
      "The area of the circle is:  78.53981633974483\n"
     ]
    }
   ],
   "source": [
    "# Task 1: Re-calculate the area of the circle above with using the funciton pow(). \n",
    "# Read the manual about how to call the function and write your code below and print the result.\n",
    "area = math.pi * math.pow(radius,2)\n",
    "print(\"The area of the circle is: \", area)\n",
    "\n"
   ]
  },
  {
   "cell_type": "markdown",
   "metadata": {},
   "source": [
    "### Examples - control structures\n",
    "- Braching strucutre: if-else \n",
    "- Loop structure: for, while\n",
    "- Boolean values: True/False"
   ]
  },
  {
   "cell_type": "code",
   "execution_count": 5,
   "metadata": {},
   "outputs": [
    {
     "name": "stdout",
     "output_type": "stream",
     "text": [
      "3\n",
      "It's an odd number.\n"
     ]
    }
   ],
   "source": [
    "# Let's test if a given number is even or odd, we need to use the if-else structure\n",
    "\n",
    "# The built-in input() function can let you input a string. \n",
    "# Let's input an integer number and test if it's even or odd.\n",
    "\n",
    "# x = input()\n",
    "x = 3.5\n",
    "# Now x is a string. We need to convert it to an integer.\n",
    "x = int(x)\n",
    "\n",
    "print(x)\n",
    "\n",
    "# Now can divid x by 2 to check its parity.\n",
    "if x%2 == 0:\n",
    "    print(\"It's an even number.\")\n",
    "else:\n",
    "    print(\"It's an odd number.\")\n"
   ]
  },
  {
   "cell_type": "code",
   "execution_count": 7,
   "metadata": {},
   "outputs": [
    {
     "name": "stdout",
     "output_type": "stream",
     "text": [
      "2\n",
      "3\n",
      "4\n",
      "5\n",
      "6\n",
      "7\n",
      "8\n",
      "9\n",
      "10\n",
      "11\n",
      "12\n",
      "13\n",
      "14\n",
      "15\n",
      "16\n",
      "It's a prime nubmer.\n"
     ]
    }
   ],
   "source": [
    "# Now we go further to check if the given number is a prime number of not.\n",
    "# To be a prime number, it cannot be divided by the number less than it. So, simply use the loop structure to test.\n",
    "\n",
    "\n",
    "x = 17\n",
    "\n",
    "# Now x is a string. We need to convert it to an integer.\n",
    "x = int(x)\n",
    "\n",
    "# Now we use a loop to try to divide the number by the numbers less than it.\n",
    "# 0 and 1 are not prime.\n",
    "if x < 2:\n",
    "    print(\"It's not a prime number.\")\n",
    "else:\n",
    "    # 2 is a prime number\n",
    "    if x == 2:\n",
    "        print(\"It's a prime nubmer.\")\n",
    "    else:\n",
    "        \n",
    "        # Use a loop to test its factor\n",
    "        # We use the built-in function range(a, b) to generate all the integer numbers between a (included) and b (excluded)\n",
    "        is_prime = True\n",
    "        for i in range(2, x):\n",
    "            # To test if i is a factor for x\n",
    "            print(i)\n",
    "            if x%i == 0:\n",
    "                is_prime = False\n",
    "                break\n",
    "        if is_prime:\n",
    "            print(\"It's a prime nubmer.\")\n",
    "        else:\n",
    "            print(\"It's not a prime number.\")\n"
   ]
  },
  {
   "cell_type": "markdown",
   "metadata": {},
   "source": [
    "### Example - defining a function\n",
    "- How to define your own function\n",
    "\n",
    "Python is a dynamically typed language so we don't need to declare the type of a variable or declare the return type of a function (although Python 3 introduced optional [type hints](https://docs.python.org/3/library/typing.html)).  Apart from that the idea of writing a function in Python is the same as in Processing or (methods in) Java.\n",
    "\n",
    "Write a function that takes a single string argument and returns the number of words in the string using the code you wrote above to count words."
   ]
  },
  {
   "cell_type": "code",
   "execution_count": null,
   "metadata": {},
   "outputs": [
    {
     "name": "stdin",
     "output_type": "stream",
     "text": [
      " 5\n"
     ]
    }
   ],
   "source": [
    "# Now, to make things easier for the number primality test, we can make a self-defined function. \n",
    "# We can just simply resue the code above\n",
    "\n",
    "def is_prime(x):\n",
    "    # Now we use a loop to try to divide the number by the numbers less than it.\n",
    "    # 0 and 1 are not prime.\n",
    "    if x < 2:\n",
    "        return False\n",
    "    else:\n",
    "        # 2 is a prime number\n",
    "        if x == 2:\n",
    "            return True\n",
    "        else:\n",
    "            # Use a loop to test its factor\n",
    "            # We use the built-in function range(a, b) to generate all the integer numbers between a (included) and b (excluded)\n",
    "            for i in range(2, x):\n",
    "                # To test if i is a factor for x\n",
    "                if x%i == 0:\n",
    "                    return False\n",
    "            return True\n",
    "\n",
    "# Now, let's try to call this function to test a number\n",
    "\n",
    "x = input()\n",
    "y=97777\n",
    "\n",
    "# Now x is a string. We need to convert it to an integer.\n",
    "x = int(x)\n",
    "\n",
    "# Now we can directly call the function we defined before.\n",
    "if is_prime(y):\n",
    "    print(\"It's a prime nubmer.\")\n",
    "else:\n",
    "    print(\"It's not a prime number.\")\n",
    "        "
   ]
  },
  {
   "cell_type": "code",
   "execution_count": 7,
   "metadata": {},
   "outputs": [
    {
     "name": "stdin",
     "output_type": "stream",
     "text": [
      " 3\n"
     ]
    },
    {
     "name": "stdout",
     "output_type": "stream",
     "text": [
      "It's a prime nubmer.\n"
     ]
    }
   ],
   "source": [
    "# Task 2: Now we want to have a smarter way to perform the primality test. \n",
    "# We can improve the testing process with less computation by an optimisation strategy.\n",
    "# Strategy: You just need to test the factors less than the sqared root of number, i.e., sqrt(x). \n",
    "# The reason is that one of the factors (if any) of the number x must not be greater than sqrt(x).\n",
    "# Your task is to define a new version of the primality testing function is_prime_faster(x).\n",
    "# write your code here: \n",
    "\n",
    "import math\n",
    "\n",
    "def is_prime_faster(x):\n",
    "\n",
    "    if x < 2:\n",
    "        return False\n",
    "    else:\n",
    "\n",
    "        if x == 2:\n",
    "            return True\n",
    "        else:\n",
    "            max_factor = int(math.sqrt(x)) + 1 \n",
    "    for i in range(2, max_factor):\n",
    "        \n",
    "        if x%i == 0:\n",
    "            return False\n",
    "    return True\n",
    "\n",
    "x = input()\n",
    "\n",
    "x = int(x)\n",
    "\n",
    "if is_prime_faster(x):\n",
    "    print(\"It's a prime nubmer.\")\n",
    "else:\n",
    "    print(\"It's not a prime number.\")\n"
   ]
  },
  {
   "cell_type": "markdown",
   "metadata": {},
   "source": [
    "## String Manipulation\n",
    "\n",
    "The next cell defines three strings that you will use for the following group of questions. Note that the first uses single quotes, the second uses double quotes and the third uses three double quotes since it includes newline characters.  These are all valid ways of writing strings in Python and are equivalent."
   ]
  },
  {
   "cell_type": "markdown",
   "metadata": {},
   "source": [
    "#### title = 'Data Science'\n",
    "\n",
    "code = \"COMP2200/COMP6200\"\n",
    "\n",
    "description = \"\"\"This unit introduces students to the fundamental techniques and \n",
    "tools of data science, such as the graphical display of data, \n",
    "predictive models, evaluation methodologies, regression, \n",
    "classification and clustering. The unit provides practical \n",
    "experience applying these methods using industry-standard \n",
    "software tools to real-world data sets. Students who have \n",
    "completed this unit will be able to identify which data \n",
    "science methods are most appropriate for a real-world data \n",
    "set, apply these methods to the data set, and interpret the \n",
    "results of the analysis they have performed. \"\"\""
   ]
  },
  {
   "cell_type": "markdown",
   "metadata": {},
   "source": [
    "Task 3.\n",
    "\n",
    "Write code to print the length of these strings, i.e., how many words they contain."
   ]
  },
  {
   "cell_type": "code",
   "execution_count": 9,
   "metadata": {
    "scrolled": true
   },
   "outputs": [
    {
     "name": "stdout",
     "output_type": "stream",
     "text": [
      "12\n",
      "17\n",
      "578\n"
     ]
    }
   ],
   "source": [
    "#write your code here: print the lenght of these strings\n",
    "title = 'Data Science'\n",
    "code = \"COMP2200/COMP6200\"\n",
    "description = \"\"\"This unit introduces students to the fundamental techniques and tools of data science, such as the graphical display of data, predictive models, evaluation methodologies, regression, classification and clustering. The unit provides practical experience applying these methods using industry-standard software tools to real-world data sets. Students who have completed this unit will be able to identify which data science methods are most appropriate for a real-world data set, apply these methods to the data set, and interpret the results of the analysis they have performed. \"\"\"\n",
    "print (len(title))\n",
    "print (len(code))\n",
    "print (len(description))"
   ]
  },
  {
   "cell_type": "markdown",
   "metadata": {},
   "source": [
    "Write code to create a new string in a variable 'summary' that contains the code, title and the first 20 characters of the description, with a ':' character between each one (ie 'COMP2200/COMP6200:Data Science:This unit...'"
   ]
  },
  {
   "cell_type": "code",
   "execution_count": 11,
   "metadata": {},
   "outputs": [
    {
     "name": "stdout",
     "output_type": "stream",
     "text": [
      "Data Science:COMP2200/COMP6200:This unit introduces\n"
     ]
    }
   ],
   "source": [
    "# write your code here: create a new string summary and then print it\n",
    "summary = title + \":\" + code + \":\" + description [0:20]\n",
    "print (summary)\n"
   ]
  },
  {
   "cell_type": "markdown",
   "metadata": {},
   "source": [
    "Write code to find the number of words in the description.  Hint, this is easy in Python since strings support the [split method](https://docs.python.org/3.6/library/stdtypes.html#str.split) that returns a list of strings after splitting on whitespace (or another character if you wish).   Try split on the string, then find out how many strings are in the resulting list."
   ]
  },
  {
   "cell_type": "code",
   "execution_count": 16,
   "metadata": {},
   "outputs": [
    {
     "name": "stdout",
     "output_type": "stream",
     "text": [
      "2\n"
     ]
    }
   ],
   "source": [
    "#write your code here\n",
    "description = \"This is a sample description,splitting by comma\"\n",
    "split_description = description.split(',')\n",
    "print(len(split_description))\n"
   ]
  },
  {
   "cell_type": "markdown",
   "metadata": {},
   "source": [
    "## Data generation and plotting\n",
    "\n",
    "Just to give you a taste of some of the capabilities of Jupyter notebooks and Python we will look at a very simple example of data handling and plotting.  First you need to import some libraries that will allow you to do this: `matplotlib` does the plotting. You also need to use the random module to generate random numbers.\n",
    "\n",
    "- How to use an array\n",
    "- the random module\n",
    "- Gaussian distribution\n",
    "- Pyhton plotting"
   ]
  },
  {
   "cell_type": "code",
   "execution_count": 20,
   "metadata": {},
   "outputs": [],
   "source": [
    "import random\n",
    "import math"
   ]
  },
  {
   "cell_type": "markdown",
   "metadata": {},
   "source": [
    "The Gaussian or Normal disbribution is often used in data science for data distribution modelling and data analytics. The Python random module has the function gauss() that draws a random number from a Gaussian distribition. Two parameter $\\mu$ and $\\sigma$ should be given to determine a Gaussian distribution."
   ]
  },
  {
   "cell_type": "code",
   "execution_count": 23,
   "metadata": {},
   "outputs": [
    {
     "name": "stdout",
     "output_type": "stream",
     "text": [
      "-5.0912183355696605\n",
      "[-0.23927310428409923, 4.603374892738202, 7.421543491692891, 3.4488767169928476, 2.817211098469716, 3.052022638885701, 3.8744564480210575, 7.064111030557086, 4.128902846861064, -5.6734549057460635, 6.829431570786984, 6.442510775035991, -1.132335402344984, 10.19089822041876, 4.7945765796846205, -0.574625539059291, -0.9212418651221281, -2.0545753968557734, 1.0876800656969825, 5.417795467073931, -7.5982903662662675, -0.4860990482276455, -4.0365000844664225, -0.20894927131090157, -0.8442738868323365, 6.3303253997129225, 5.78393356186683, 5.532960534777146, -0.7588147102193008, 2.3087288976550626, -7.319744212369366, -0.08357706978432575, -12.32708086109298, -4.240454135118773, 9.916159228042181, 3.1656021297614148, -11.283269891304911, 0.13692818478204177, -5.547880360080228, 4.590828107402498, 0.6762050062892172, -0.6885500796522961, -10.717571029108834, 2.477426689909057, -3.6399998967320277, -3.757317260536726, 1.7944985114036345, -0.6258837048564753, 2.9175121856459008, 2.486311755516896, -6.014317373813654, 0.7606260486914032, 3.509689275494099, -5.4806560555431805, -4.796744299424249, -5.970642196484159, 1.8689691587613138, 1.6647179141503874, 8.092077868614563, 0.44778070258595043, -3.9750047292108324, -4.475706518571054, 7.5614890027747705, -3.1215259430451017, -1.126452989311188, -1.1816453019651274, 6.850037064639216, -3.831932367356811, -10.81727576216894, 3.7297025824731738, -7.255410237254795, 0.545929993346682, 2.203869288538118, 6.407061900876457, 4.3069888688356475, 4.5553314499855695, 3.894411635313204, -7.842390337420432, -1.4281786843648225, -2.7971523419669198, 2.5046045004162503, 4.701611815630501, 2.057856880144794, -2.992728332757219, 5.19122419186047, -9.024073801843068, -0.9191372791267594, 6.180276356056239, 1.8019862249920293, 0.4521733393087254, -0.1871680037896689, 3.212763722283513, 0.6473067511437305, -2.831690717655561, 5.173545877996476, -3.985940173446302, 8.555067585280325, 3.0429961746480876, 3.1787819123071936, 0.16386987288135926]\n"
     ]
    }
   ],
   "source": [
    "# Random draw a number from a Gauassian distribution\n",
    "import random\n",
    "\n",
    "def pdf(mu, sigma, x):\n",
    "    return math.exp(-0.5*math.pow(x-mu, 2)/pow(sigma, 2))/math.sqrt(2*math.pi*pow(sigma, 2))\n",
    "\n",
    "mu=0\n",
    "sigma=5\n",
    "x = random.gauss(mu, sigma)\n",
    "print(x)\n",
    "\n",
    "# Use a loop to draw a set of 100 such random numbers\n",
    "# x is an array for the generated numbers\n",
    "x=[]\n",
    "for i in range(100):\n",
    "    x.append(random.gauss(mu, sigma))\n",
    "\n",
    "print(x)"
   ]
  },
  {
   "cell_type": "markdown",
   "metadata": {},
   "source": [
    "In terms of the probability density function, we can calculate the probability density for the genrated random number. The probability density function is defined as $p(x)=\\frac{1}{\\sqrt{2\\pi\\sigma^2}}e^{-\\frac{(x-\\mu)^2}{2\\sigma^2}}$."
   ]
  },
  {
   "cell_type": "code",
   "execution_count": 26,
   "metadata": {},
   "outputs": [
    {
     "name": "stdout",
     "output_type": "stream",
     "text": [
      "0.09666702920071232\n",
      "[0.09506194222662424, 0.06647079497289793, 0.02749187438679558, 0.08269145099101437, 0.08995655928057053, 0.08743843810262573, 0.07703957598696236, 0.03160616838787012, 0.07344845389402697, 0.02479900726699316, 0.03448679064809652, 0.03952243653313694, 0.08652498263082065, 0.007118900711788061, 0.06359656934729768, 0.09229959097490653, 0.08886988312695135, 0.07451097428950268, 0.09971161214992358, 0.054196630304245194, 0.009896599580784395, 0.09308444205232229, 0.04514251454260134, 0.09528274043195453, 0.08967843402976795, 0.041043638632538744, 0.04878067593615199, 0.05247861663042475, 0.09054552135387485, 0.09453766066560207, 0.011466794136227247, 0.09614241027195189, 0.0003875834885653929, 0.04228040115281716, 0.008316264320302172, 0.08613924513852544, 0.0008936531173210614, 0.0974407479280965, 0.026119622371241883, 0.06665855740985054, 0.09940933619169424, 0.09123351711575788, 0.0013659517268431271, 0.09315923272712366, 0.050892848596814186, 0.04916934079771521, 0.09778747616448741, 0.09182761576633297, 0.0889096538592745, 0.09308260291551841, 0.021434507594713614, 0.09955714123941446, 0.08191589101683013, 0.026844384849518246, 0.03489879302778332, 0.021847565354853216, 0.09740964968112728, 0.09836790430745246, 0.020712209746420844, 0.09878964755125542, 0.046019438481682405, 0.0390773230651998, 0.025974410043001335, 0.05865538469594943, 0.08659274726984781, 0.08595171006460023, 0.03422839996678941, 0.04808214053779924, 0.0012693718647514124, 0.07901755190156724, 0.011855343466225772, 0.09909502844912033, 0.09531924391814513, 0.04000031922313214, 0.07086430874770762, 0.06718906129498334, 0.07676292681371064, 0.008663783705771515, 0.08295271679559944, 0.06355771876835009, 0.09292359071159853, 0.06499673716064072, 0.09630803214148229, 0.06060265167053623, 0.057602941124150424, 0.004316557232590657, 0.08889233229528763, 0.043117131985701204, 0.09775095319016024, 0.09880456623012411, 0.09543826882522015, 0.08558519236765301, 0.09934862392920658, 0.06303653347781686, 0.05786974576057152, 0.04586305555023355, 0.016756767228817495, 0.0875394975300699, 0.08598525282230408, 0.09758024693614094]\n"
     ]
    }
   ],
   "source": [
    "# We can implement the probabiity density function as follows:\n",
    "\n",
    "\n",
    "def pdf(mu, sigma, x):\n",
    "    return math.exp(-0.5*math.pow(x-mu, 2)/pow(sigma, 2))/math.sqrt(2*math.pi*pow(sigma, 2))\n",
    "\n",
    "\n",
    "# The probability density example\n",
    "mu=1\n",
    "sigma=4\n",
    "print(pdf(mu, sigma, 0))\n",
    "\n",
    "\n",
    "# Now we can calculate the probablity density for the random numbers generated above. \n",
    "# You need to ensure that the distribution is the same, i.e., the same mu and sigma.\n",
    "y=[]\n",
    "for i in x:\n",
    "    y.append(pdf(mu, sigma, i))\n",
    "\n",
    "print(y)"
   ]
  },
  {
   "cell_type": "markdown",
   "metadata": {},
   "source": [
    "Now we will create a simple plot."
   ]
  },
  {
   "cell_type": "code",
   "execution_count": 29,
   "metadata": {},
   "outputs": [],
   "source": [
    "import matplotlib.pyplot as plt\n",
    "%matplotlib inline"
   ]
  },
  {
   "cell_type": "code",
   "execution_count": 31,
   "metadata": {},
   "outputs": [
    {
     "data": {
      "image/png": "[encoded data removed]",
      "text/plain": [
       "<Figure size 640x480 with 1 Axes>"
      ]
     },
     "metadata": {},
     "output_type": "display_data"
    }
   ],
   "source": [
    "\n",
    "\n",
    "fig, ax = plt.subplots()\n",
    "\n",
    "# Settings\n",
    "ax.set_xlabel('x')\n",
    "ax.set_ylabel('probability density')\n",
    "ax.set_title('Random Numbers from Gaussian Distribution')\n",
    "\n",
    "# Plot the random numbers (X-axis) and their probability density (Y-axis)\n",
    "ax.scatter(x, y)\n",
    "\n",
    "plt.show()"
   ]
  },
  {
   "cell_type": "code",
   "execution_count": 33,
   "metadata": {},
   "outputs": [
    {
     "name": "stdout",
     "output_type": "stream",
     "text": [
      "0.09666702920071232\n",
      "[0.09506194222662424, 0.06647079497289793, 0.02749187438679558, 0.08269145099101437, 0.08995655928057053, 0.08743843810262573, 0.07703957598696236, 0.03160616838787012, 0.07344845389402697, 0.02479900726699316, 0.03448679064809652, 0.03952243653313694, 0.08652498263082065, 0.007118900711788061, 0.06359656934729768, 0.09229959097490653, 0.08886988312695135, 0.07451097428950268, 0.09971161214992358, 0.054196630304245194, 0.009896599580784395, 0.09308444205232229, 0.04514251454260134, 0.09528274043195453, 0.08967843402976795, 0.041043638632538744, 0.04878067593615199, 0.05247861663042475, 0.09054552135387485, 0.09453766066560207, 0.011466794136227247, 0.09614241027195189, 0.0003875834885653929, 0.04228040115281716, 0.008316264320302172, 0.08613924513852544, 0.0008936531173210614, 0.0974407479280965, 0.026119622371241883, 0.06665855740985054, 0.09940933619169424, 0.09123351711575788, 0.0013659517268431271, 0.09315923272712366, 0.050892848596814186, 0.04916934079771521, 0.09778747616448741, 0.09182761576633297, 0.0889096538592745, 0.09308260291551841, 0.021434507594713614, 0.09955714123941446, 0.08191589101683013, 0.026844384849518246, 0.03489879302778332, 0.021847565354853216, 0.09740964968112728, 0.09836790430745246, 0.020712209746420844, 0.09878964755125542, 0.046019438481682405, 0.0390773230651998, 0.025974410043001335, 0.05865538469594943, 0.08659274726984781, 0.08595171006460023, 0.03422839996678941, 0.04808214053779924, 0.0012693718647514124, 0.07901755190156724, 0.011855343466225772, 0.09909502844912033, 0.09531924391814513, 0.04000031922313214, 0.07086430874770762, 0.06718906129498334, 0.07676292681371064, 0.008663783705771515, 0.08295271679559944, 0.06355771876835009, 0.09292359071159853, 0.06499673716064072, 0.09630803214148229, 0.06060265167053623, 0.057602941124150424, 0.004316557232590657, 0.08889233229528763, 0.043117131985701204, 0.09775095319016024, 0.09880456623012411, 0.09543826882522015, 0.08558519236765301, 0.09934862392920658, 0.06303653347781686, 0.05786974576057152, 0.04586305555023355, 0.016756767228817495, 0.0875394975300699, 0.08598525282230408, 0.09758024693614094]\n"
     ]
    }
   ],
   "source": [
    "# Task 4. In this task, please change the values mu and sigma to define another Gaussian distribution.\n",
    "# Then, generate 1000 random numbers, calculate their probaiblity density values, and plot as we did in the example above.\n",
    "\n",
    "# Your code here:\n",
    "# We can implement the probabiity density function as follows:\n",
    "\n",
    "\n",
    "def pdf(mu, sigma, x):\n",
    "    return math.exp(-0.5*math.pow(x-mu, 2)/pow(sigma, 2))/math.sqrt(2*math.pi*pow(sigma, 2))\n",
    "\n",
    "\n",
    "# The probability density example\n",
    "mu=1\n",
    "sigma=4\n",
    "print(pdf(mu, sigma, 0))\n",
    "\n",
    "\n",
    "# Now we can calculate the probablity density for the random numbers generated above. \n",
    "# You need to ensure that the distribution is the same, i.e., the same mu and sigma.\n",
    "y=[]\n",
    "for i in x:\n",
    "    y.append(pdf(mu, sigma, i))\n",
    "\n",
    "print(y)"
   ]
  },
  {
   "cell_type": "markdown",
   "metadata": {},
   "source": [
    "## Checkpoint\n",
    "\n",
    "You got your copy of this notebook by forking and then cloning my Github repository.  Now that you have made some changes you should commit your work with a suitable commit message and push your changes back to your Github repository.  Show your tutor your updated Github repository to get your checkpoint mark."
   ]
  },
  {
   "cell_type": "code",
   "execution_count": null,
   "metadata": {},
   "outputs": [],
   "source": []
  },
  {
   "cell_type": "code",
   "execution_count": null,
   "metadata": {},
   "outputs": [],
   "source": []
  }
 ],
 "metadata": {
  "kernelspec": {
   "display_name": "Python 3 (ipykernel)",
   "language": "python",
   "name": "python3"
  },
  "language_info": {
   "codemirror_mode": {
    "name": "ipython",
    "version": 3
   },
   "file_extension": ".py",
   "mimetype": "text/x-python",
   "name": "python",
   "nbconvert_exporter": "python",
   "pygments_lexer": "ipython3",
   "version": "3.12.4"
  }
 },
 "nbformat": 4,
 "nbformat_minor": 4
}
