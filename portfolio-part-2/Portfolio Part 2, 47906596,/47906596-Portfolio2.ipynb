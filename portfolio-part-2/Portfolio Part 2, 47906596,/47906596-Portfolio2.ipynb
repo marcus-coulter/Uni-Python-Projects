{
 "cells": [
  {
   "cell_type": "markdown",
   "id": "rSF_UH-XklO4",
   "metadata": {
    "id": "rSF_UH-XklO4"
   },
   "source": [
    "## Analysis of a Car Sell Dataset Part 2"
   ]
  },
  {
   "cell_type": "markdown",
   "id": "aWJHrXuwklO5",
   "metadata": {
    "id": "aWJHrXuwklO5"
   },
   "source": [
    "There are two goals in the second analysis task: (1), train linear regression models to predict the selling prices of cars; (2) assess the data ethics issues. There are *7* questions in this portfolio. \n",
    "\n",
    "The first goal involves a standard Data Science workflow: exploring data, building models, making predictions, and evaluating results. In this task, we will explore the impacts of feature selections and different sizes of training/testing data on the model performance. We will use another cleaned car_sells sub-dataset that **is different from** the one in “Analysis of a Car Sell Dataset” task 1. This goal covers Questions *1-6*. \n",
    "\n",
    "Question *7* is about data ethics issue."
   ]
  },
  {
   "cell_type": "code",
   "execution_count": 65,
   "id": "f2b11c57",
   "metadata": {},
   "outputs": [],
   "source": [
    "your_name = \"Marcus Coulter\"\n",
    "your_student_id = \"47906596\""
   ]
  },
  {
   "cell_type": "code",
   "execution_count": 67,
   "id": "0e327626",
   "metadata": {},
   "outputs": [],
   "source": [
    "import pandas as pd\n",
    "import numpy as np\n",
    "from sklearn.model_selection import train_test_split\n",
    "from sklearn import linear_model\n",
    "from sklearn.metrics import r2_score\n",
    "\n",
    "import seaborn as sns\n",
    "import matplotlib.pylab as plt\n",
    "%matplotlib inline"
   ]
  },
  {
   "cell_type": "markdown",
   "id": "0g4OhHHzklO6",
   "metadata": {
    "id": "0g4OhHHzklO6"
   },
   "source": [
    "### Q1: Import Cleaned Car Sell Dataset\n",
    "The csv file named 'car_sells_clean_data.csv' is provided. You may need to use the Pandas method, i.e., `read_csv`, for reading it. After that, please print out its total length."
   ]
  },
  {
   "cell_type": "code",
   "execution_count": 70,
   "id": "9ki1LBees70W",
   "metadata": {
    "colab": {
     "base_uri": "https://localhost:8080/"
    },
    "id": "9ki1LBees70W",
    "outputId": "d3ff4349-47d0-423b-ef22-caf78c9883f5"
   },
   "outputs": [
    {
     "name": "stdout",
     "output_type": "stream",
     "text": [
      "Total length of the dataset: 3657\n"
     ]
    }
   ],
   "source": [
    "# loads the dataset\n",
    "file_path = 'car_sells_clean_data.csv'\n",
    "df = pd.read_csv(file_path)\n",
    "\n",
    "# Total Printed Out\n",
    "print(f\"Total length of the dataset: {len(df)}\")"
   ]
  },
  {
   "cell_type": "markdown",
   "id": "RpXf1q3UklO7",
   "metadata": {
    "id": "RpXf1q3UklO7"
   },
   "source": [
    "### Q2: Explore the Dataset\n",
    "\n",
    "* Use the methods, i.e., `head()` and `info()`, to have a rough picture about the data, e.g., how many columns, and the data types of each column.\n",
    "* As our goal is to predict cars' selling prices given other columns, please get the correlations between year/km_driven/seller_type/fuel/owner and selling_price by using the `corr()` method.\n",
    "* To get the correlations between different features, you may need to first convert the categorical features (i.e., seller_type and owner) into numerial values. For doing this, you may need to import `OrdinalEncoder` from `sklearn.preprocessing` (refer to the useful exmaples [here](https://pbpython.com/categorical-encoding.html))\n",
    "* Please provide ___necessary explanations/analysis___ on the correlations, and figure out which are the ___most___ and ___least___ corrleated features regarding selling_price. Try to ___discuss___ how the correlation will affect the final prediction results, if we use these features to train a regression model for selling_price prediction. In what follows, we will conduct experiments to verify your hypothesis."
   ]
  },
  {
   "cell_type": "code",
   "execution_count": 73,
   "id": "7551c655",
   "metadata": {},
   "outputs": [
    {
     "name": "stdout",
     "output_type": "stream",
     "text": [
      "First few rows of the dataset:\n",
      "                       name    year  selling_price  km_driven    fuel  \\\n",
      "0             Maruti 800 AC  2007.0          60000      70000  Petrol   \n",
      "1  Maruti Wagon R LXI Minor  2007.0         135000      50000  Petrol   \n",
      "2      Hyundai Verna 1.6 SX  2012.0         600000     100000  Diesel   \n",
      "3    Datsun RediGO T Option  2017.0         250000      46000  Petrol   \n",
      "4     Honda Amaze VX i-DTEC  2014.0         450000     141000  Diesel   \n",
      "\n",
      "  seller_type transmission         owner  \n",
      "0  Individual       Manual   First Owner  \n",
      "1  Individual       Manual   First Owner  \n",
      "2  Individual       Manual   First Owner  \n",
      "3  Individual       Manual   First Owner  \n",
      "4  Individual       Manual  Second Owner  \n",
      "\n",
      "Dataset info:\n",
      "<class 'pandas.core.frame.DataFrame'>\n",
      "RangeIndex: 3657 entries, 0 to 3656\n",
      "Data columns (total 8 columns):\n",
      " #   Column         Non-Null Count  Dtype  \n",
      "---  ------         --------------  -----  \n",
      " 0   name           3657 non-null   object \n",
      " 1   year           3657 non-null   float64\n",
      " 2   selling_price  3657 non-null   int64  \n",
      " 3   km_driven      3657 non-null   int64  \n",
      " 4   fuel           3657 non-null   object \n",
      " 5   seller_type    3657 non-null   object \n",
      " 6   transmission   3657 non-null   object \n",
      " 7   owner          3657 non-null   object \n",
      "dtypes: float64(1), int64(2), object(5)\n",
      "memory usage: 228.7+ KB\n",
      "None\n"
     ]
    }
   ],
   "source": [
    "#Use the methods, i.e., head() and info(), to have a rough picture about the data, e.g., how many columns, and the data types of each column.\n",
    "\n",
    "# Display the first few rows of the dataset\n",
    "print(\"First few rows of the dataset:\")\n",
    "print(df.head())\n",
    "\n",
    "# Display a summary of the dataset\n",
    "print(\"\\nDataset info:\")\n",
    "print(df.info())"
   ]
  },
  {
   "cell_type": "code",
   "execution_count": 75,
   "id": "b1934bc0-1b49-445b-8193-1aa10dfaf436",
   "metadata": {},
   "outputs": [
    {
     "name": "stdout",
     "output_type": "stream",
     "text": [
      "Correlations with selling_price:\n",
      "year           0.411103\n",
      "km_driven     -0.177203\n",
      "seller_type   -0.208637\n",
      "fuel          -0.277627\n",
      "owner         -0.205524\n",
      "Name: selling_price, dtype: float64\n"
     ]
    }
   ],
   "source": [
    "# As our goal is to predict cars' selling prices given other columns, please get the correlations between year/km_driven/seller_type/fuel/owner and selling_price by using the corr() method.\n",
    "# Encoding categorical columns\n",
    "df_encoded = df.copy()\n",
    "df_encoded['seller_type'] = df_encoded['seller_type'].astype('category').cat.codes\n",
    "df_encoded['fuel'] = df_encoded['fuel'].astype('category').cat.codes\n",
    "df_encoded['owner'] = df_encoded['owner'].astype('category').cat.codes\n",
    "\n",
    "# Calculate correlations\n",
    "correlations = df_encoded[['year', 'km_driven', 'seller_type', 'fuel', 'owner', 'selling_price']].corr()\n",
    "correlations = correlations['selling_price'].drop('selling_price')  # Get correlations with selling_price only\n",
    "\n",
    "# Print the correlations\n",
    "print(\"Correlations with selling_price:\")\n",
    "print(correlations)\n"
   ]
  },
  {
   "cell_type": "code",
   "execution_count": 77,
   "id": "8111b416-6f53-4e3a-8fea-1611034208fd",
   "metadata": {},
   "outputs": [
    {
     "name": "stdout",
     "output_type": "stream",
     "text": [
      "Correlations with selling_price:\n",
      "year           0.411103\n",
      "km_driven     -0.177203\n",
      "seller_type   -0.208637\n",
      "fuel          -0.277627\n",
      "owner         -0.205524\n",
      "Name: selling_price, dtype: float64\n"
     ]
    }
   ],
   "source": [
    "# To get the correlations between different features, you may need to first convert the categorical features (i.e., seller_type and owner) into numerial values. For doing this, you may need to import OrdinalEncoder from sklearn.preprocessing\n",
    "from sklearn.preprocessing import OrdinalEncoder\n",
    "\n",
    "# Initialize OrdinalEncoder\n",
    "encoder = OrdinalEncoder()\n",
    "\n",
    "# List categorical columns to encode\n",
    "categorical_columns = ['seller_type', 'fuel', 'owner']\n",
    "\n",
    "# Apply encoding\n",
    "df_encoded = df.copy()\n",
    "df_encoded[categorical_columns] = encoder.fit_transform(df[categorical_columns])\n",
    "\n",
    "# Calculate the correlations\n",
    "correlations = df_encoded[['year', 'km_driven'] + categorical_columns + ['selling_price']].corr()\n",
    "correlations_with_price = correlations['selling_price'].drop('selling_price')  # Get correlations with selling_price only\n",
    "\n",
    "# Print the correlations\n",
    "print(\"Correlations with selling_price:\")\n",
    "print(correlations_with_price)"
   ]
  },
  {
   "cell_type": "markdown",
   "id": "C3DFUuGXklO_",
   "metadata": {
    "id": "C3DFUuGXklO_"
   },
   "source": [
    "### Q3: Split Training and Testing Data\n",
    "* Machine learning models are trained to help make predictions for the future. Normally, we need to randomly split the dataset into training and testing sets, where we use the training set to train the model, and then leverage the well-trained model to make predictions on the testing set.\n",
    "* To further investigate whether the size of the training/testing data affects the model performance, please randomly split the data into training and testing sets with different sizes:\n",
    "    * Case 1: training data containing 10% of the entire data;\n",
    "    * Case 2: training data containing 90% of the entire data.\n",
    "* Print the shape of training and testing sets in the two cases."
   ]
  },
  {
   "cell_type": "code",
   "execution_count": 80,
   "id": "47f6b5cd",
   "metadata": {},
   "outputs": [
    {
     "name": "stdout",
     "output_type": "stream",
     "text": [
      "Training set size: 2925\n",
      "Testing set size: 732\n"
     ]
    }
   ],
   "source": [
    "from sklearn.model_selection import train_test_split\n",
    "\n",
    "# Define the features and target variable\n",
    "X = df_encoded[['year', 'km_driven', 'seller_type', 'fuel', 'owner']]\n",
    "y = df_encoded['selling_price']\n",
    "\n",
    "# Split the dataset into training and testing sets\n",
    "X_train, X_test, y_train, y_test = train_test_split(X, y, test_size=0.2, random_state=42)\n",
    "\n",
    "# Print the sizes of the resulting datasets\n",
    "print(f\"Training set size: {len(X_train)}\")\n",
    "print(f\"Testing set size: {len(X_test)}\")\n"
   ]
  },
  {
   "cell_type": "code",
   "execution_count": 82,
   "id": "015270d9-2c50-450f-a1d2-6201b3f15852",
   "metadata": {},
   "outputs": [
    {
     "name": "stdout",
     "output_type": "stream",
     "text": [
      "Training set size (10%): 365\n",
      "Testing set size (90%): 3292\n"
     ]
    }
   ],
   "source": [
    "# case 1 \n",
    "\n",
    "from sklearn.model_selection import train_test_split\n",
    "\n",
    "# Define the features and target variable\n",
    "X = df_encoded[['year', 'km_driven', 'seller_type', 'fuel', 'owner']]\n",
    "y = df_encoded['selling_price']\n",
    "\n",
    "# Split the dataset into training and testing sets with 10% for training\n",
    "X_train_10, X_test_10, y_train_10, y_test_10 = train_test_split(X, y, test_size=0.9, random_state=42)\n",
    "\n",
    "# Print the sizes of the resulting datasets\n",
    "print(f\"Training set size (10%): {len(X_train_10)}\")\n",
    "print(f\"Testing set size (90%): {len(X_test_10)}\")\n"
   ]
  },
  {
   "cell_type": "code",
   "execution_count": 84,
   "id": "5c3ff5e2-fcd5-47e8-995d-c8f88dd33fee",
   "metadata": {},
   "outputs": [
    {
     "name": "stdout",
     "output_type": "stream",
     "text": [
      "Case 1 - 10% Training Data:\n",
      "Training set shape: (365, 5)\n",
      "Testing set shape: (3292, 5)\n",
      "\n",
      "Case 2 - 90% Training Data:\n",
      "Training set shape: (3291, 5)\n",
      "Testing set shape: (366, 5)\n"
     ]
    }
   ],
   "source": [
    "# print shapes\n",
    "\n",
    "from sklearn.model_selection import train_test_split\n",
    "\n",
    "# Define the features and target variable\n",
    "X = df_encoded[['year', 'km_driven', 'seller_type', 'fuel', 'owner']]\n",
    "y = df_encoded['selling_price']\n",
    "\n",
    "# Case 1: 10% training data\n",
    "X_train_10, X_test_10, y_train_10, y_test_10 = train_test_split(X, y, test_size=0.9, random_state=42)\n",
    "print(\"Case 1 - 10% Training Data:\")\n",
    "print(f\"Training set shape: {X_train_10.shape}\")\n",
    "print(f\"Testing set shape: {X_test_10.shape}\")\n",
    "\n",
    "# Case 2: 90% training data\n",
    "X_train_90, X_test_90, y_train_90, y_test_90 = train_test_split(X, y, test_size=0.1, random_state=42)\n",
    "print(\"\\nCase 2 - 90% Training Data:\")\n",
    "print(f\"Training set shape: {X_train_90.shape}\")\n",
    "print(f\"Testing set shape: {X_test_90.shape}\")\n"
   ]
  },
  {
   "cell_type": "markdown",
   "id": "WiNRCPFoklO_",
   "metadata": {
    "id": "WiNRCPFoklO_"
   },
   "source": [
    "### Q4: Train Linear Regression Models with Feature Selection under Cases 1 & 2\n",
    "* When training a machine learning model for prediction, we may need to select the most important/correlated input features for more accurate results.\n",
    "* To investigate whether feature selection affects the model performance, please select two most correlated features and two least correlated features regarding selling_price, respectively.\n",
    "* Train four linear regression models by following the conditions:\n",
    "    - (model-a) using the training/testing data in case 1 with two most correlated input features\n",
    "    - (model-b) using the training/testing data in case 1 with two least correlated input features\n",
    "    - (model-c) using the training/testing data in case 2 with two most correlated input features\n",
    "    - (model-d) using the training/testing data in case 2 with two least correlated input features\n",
    "* By doing this, we can verify the impacts of the size of traing/testing data on the model performance via comparing model-a and model-c (or model-b and model-d); meanwhile the impacts of feature selection can be validated via comparing model-a and model-b (or model-c and model-d).    "
   ]
  },
  {
   "cell_type": "code",
   "execution_count": 87,
   "id": "342b0067-9385-4084-b073-200423e0742b",
   "metadata": {},
   "outputs": [],
   "source": [
    "from sklearn.linear_model import LinearRegression\n",
    "from sklearn.model_selection import train_test_split\n",
    "from sklearn.metrics import r2_score"
   ]
  },
  {
   "cell_type": "code",
   "execution_count": 89,
   "id": "3d50601b-713c-4584-839d-751fbb5e86a2",
   "metadata": {},
   "outputs": [],
   "source": [
    "# Define features and target variable\n",
    "X = df_encoded[['year', 'km_driven', 'fuel', 'owner']]\n",
    "y = df_encoded['selling_price']\n",
    "\n",
    "# Most and least correlated features\n",
    "most_correlated_features = ['year', 'km_driven']\n",
    "least_correlated_features = ['fuel', 'owner']\n",
    "\n",
    "# Initialize the Linear Regression model\n",
    "model = LinearRegression()\n",
    "\n",
    "# Case 1: 10% training data\n",
    "X_train_10, X_test_10, y_train_10, y_test_10 = train_test_split(X, y, test_size=0.9, random_state=42)"
   ]
  },
  {
   "cell_type": "code",
   "execution_count": 91,
   "id": "0727d63c-6111-4012-a7cd-907326aed720",
   "metadata": {},
   "outputs": [
    {
     "name": "stdout",
     "output_type": "stream",
     "text": [
      "Model-a (10% data, most correlated features) R² score: 0.14630368639123148\n"
     ]
    }
   ],
   "source": [
    "# Model-a\n",
    "X_train_a = X_train_10[most_correlated_features]\n",
    "X_test_a = X_test_10[most_correlated_features]\n",
    "model.fit(X_train_a, y_train_10)\n",
    "y_pred_a = model.predict(X_test_a)\n",
    "r2_a = r2_score(y_test_10, y_pred_a)\n",
    "print(f\"Model-a (10% data, most correlated features) R² score: {r2_a}\")"
   ]
  },
  {
   "cell_type": "code",
   "execution_count": 93,
   "id": "ac6550e3-c62a-45cf-bc17-a5379ab17975",
   "metadata": {},
   "outputs": [
    {
     "name": "stdout",
     "output_type": "stream",
     "text": [
      "Model-b (10% data, least correlated features) R² score: 0.119115100629277\n"
     ]
    }
   ],
   "source": [
    "# Model-b\n",
    "X_train_b = X_train_10[least_correlated_features]\n",
    "X_test_b = X_test_10[least_correlated_features]\n",
    "model.fit(X_train_b, y_train_10)\n",
    "y_pred_b = model.predict(X_test_b)\n",
    "r2_b = r2_score(y_test_10, y_pred_b)\n",
    "print(f\"Model-b (10% data, least correlated features) R² score: {r2_b}\")"
   ]
  },
  {
   "cell_type": "code",
   "execution_count": 95,
   "id": "6da66511-290c-4803-bc85-a9c8d6a865d1",
   "metadata": {},
   "outputs": [
    {
     "name": "stdout",
     "output_type": "stream",
     "text": [
      "Model-c (90% data, most correlated features) R² score: 0.22852730563674706\n"
     ]
    }
   ],
   "source": [
    "# Case 2 90% training data\n",
    "X_train_90, X_test_90, y_train_90, y_test_90 = train_test_split(X, y, test_size=0.1, random_state=42)\n",
    "\n",
    "# Model-c\n",
    "X_train_c = X_train_90[most_correlated_features]\n",
    "X_test_c = X_test_90[most_correlated_features]\n",
    "model.fit(X_train_c, y_train_90)\n",
    "y_pred_c = model.predict(X_test_c)\n",
    "r2_c = r2_score(y_test_90, y_pred_c)\n",
    "print(f\"Model-c (90% data, most correlated features) R² score: {r2_c}\")"
   ]
  },
  {
   "cell_type": "code",
   "execution_count": 97,
   "id": "84a9a211-2f9e-4da4-ac4f-d327aef1f476",
   "metadata": {},
   "outputs": [
    {
     "name": "stdout",
     "output_type": "stream",
     "text": [
      "Model-d (90% data, least correlated features) R² score: 0.16919353125019\n"
     ]
    }
   ],
   "source": [
    "# Model-d\n",
    "X_train_d = X_train_90[least_correlated_features]\n",
    "X_test_d = X_test_90[least_correlated_features]\n",
    "model.fit(X_train_d, y_train_90)\n",
    "y_pred_d = model.predict(X_test_d)\n",
    "r2_d = r2_score(y_test_90, y_pred_d)\n",
    "print(f\"Model-d (90% data, least correlated features) R² score: {r2_d}\")"
   ]
  },
  {
   "cell_type": "markdown",
   "id": "uIHDIRCYklO_",
   "metadata": {
    "id": "uIHDIRCYklO_"
   },
   "source": [
    "### Q5: Evaluate Models\n",
    "* Evaluate the performance of the four models with two metrics, including MSE and Root MSE\n",
    "* Print the results of the four models regarding the two metrics"
   ]
  },
  {
   "cell_type": "code",
   "execution_count": 100,
   "id": "935fe823-53d8-4ee9-b702-ec002dc7fcec",
   "metadata": {},
   "outputs": [],
   "source": [
    "from sklearn.metrics import mean_squared_error\n",
    "import numpy as np"
   ]
  },
  {
   "cell_type": "code",
   "execution_count": 102,
   "id": "61621c39",
   "metadata": {},
   "outputs": [
    {
     "name": "stdout",
     "output_type": "stream",
     "text": [
      "Model-a (10% data, most correlated features) - MSE: 258450435689.88, RMSE: 508380.21\n",
      "Model-b (10% data, least correlated features) - MSE: 266681585015.41, RMSE: 516412.22\n",
      "Model-c (90% data, most correlated features) - MSE: 160303155228.54, RMSE: 400378.76\n",
      "Model-d (90% data, least correlated features) - MSE: 172632031305.78, RMSE: 415490.11\n"
     ]
    },
    {
     "data": {
      "text/plain": [
       "(172632031305.78497, 415490.10975688096)"
      ]
     },
     "execution_count": 102,
     "metadata": {},
     "output_type": "execute_result"
    }
   ],
   "source": [
    "# Function to evaluate MSE and RMSE\n",
    "def evaluate_model(y_true, y_pred, model_name):\n",
    "    mse = mean_squared_error(y_true, y_pred)\n",
    "    rmse = np.sqrt(mse)\n",
    "    print(f\"{model_name} - MSE: {mse:.2f}, RMSE: {rmse:.2f}\")\n",
    "    return mse, rmse\n",
    "\n",
    "# Evaluate Model-a \n",
    "evaluate_model(y_test_10, y_pred_a, \"Model-a (10% data, most correlated features)\")\n",
    "\n",
    "# Evaluate Model-b \n",
    "evaluate_model(y_test_10, y_pred_b, \"Model-b (10% data, least correlated features)\")\n",
    "\n",
    "# Evaluate Model-c \n",
    "evaluate_model(y_test_90, y_pred_c, \"Model-c (90% data, most correlated features)\")\n",
    "\n",
    "# Evaluate Model-d\n",
    "evaluate_model(y_test_90, y_pred_d, \"Model-d (90% data, least correlated features)\")\n"
   ]
  },
  {
   "cell_type": "markdown",
   "id": "6wmgPAzpklPA",
   "metadata": {
    "id": "6wmgPAzpklPA"
   },
   "source": [
    "### Q6: Visualize, Compare and Analyze the Results\n",
    "* Visulize the results, and perform ___insightful analysis___ on the obtained results. For better visualization, you may need to carefully set the scale for the y-axis.\n",
    "* Normally, the model trained with most correlated features and more training data will get better results. Do you obtain the similar observations? If not, please ___explain the possible reasons___."
   ]
  },
  {
   "cell_type": "code",
   "execution_count": 105,
   "id": "u0dpqTCmklPA",
   "metadata": {
    "id": "u0dpqTCmklPA"
   },
   "outputs": [
    {
     "data": {
      "image/png": "[encoded data removed]",
      "text/plain": [
       "<Figure size 1200x600 with 2 Axes>"
      ]
     },
     "metadata": {},
     "output_type": "display_data"
    }
   ],
   "source": [
    "import matplotlib.pyplot as plt\n",
    "import numpy as np\n",
    "\n",
    "# MSE and RMSE values\n",
    "model_names = ['Model-a', 'Model-b', 'Model-c', 'Model-d']\n",
    "mse_values = [mse_a, mse_b, mse_c, mse_d]\n",
    "rmse_values = [rmse_a, rmse_b, rmse_c, rmse_d]\n",
    "\n",
    "# Set up figure for MSE and RMSE\n",
    "fig, ax = plt.subplots(1, 2, figsize=(12, 6))\n",
    "\n",
    "# Plot MSE values\n",
    "ax[0].bar(model_names, mse_values, color='skyblue')\n",
    "ax[0].set_title('MSE Comparison')\n",
    "ax[0].set_ylabel('MSE')\n",
    "ax[0].set_ylim([0, max(mse_values) + 5000])\n",
    "\n",
    "# Plot RMSE \n",
    "ax[1].bar(model_names, rmse_values, color='lightgreen')\n",
    "ax[1].set_title('RMSE Comparison')\n",
    "ax[1].set_ylabel('RMSE')\n",
    "ax[1].set_ylim([0, max(rmse_values) + 50])\n",
    "\n",
    "# Display charts\n",
    "plt.tight_layout()\n",
    "plt.show()\n"
   ]
  },
  {
   "cell_type": "markdown",
   "id": "f97796c2",
   "metadata": {},
   "source": [
    "### Q7: Data Science Ethics\n",
    "*Please read the following examples [Click here to read the example_1.](https://www.vox.com/covid-19-coronavirus-us-response-trump/2020/5/18/21262265/georgia-covid-19-cases-declining-reopening) [Click here to read the example_2.](https://viborc.com/ethics-and-ethical-data-visualization-a-complete-guide/)\n",
    "\n",
    "*Then view the picture ![My Image](figure_portfolio2.png \"This is my image\")\n",
    "Please compose an analysis of 100-200 words that evaluates potential ethical concerns associated with the infographic, detailing the reasons behind these issues.\n"
   ]
  },
  {
   "cell_type": "markdown",
   "id": "7d3c2984-081e-4d06-9a1c-b311c992380f",
   "metadata": {},
   "source": [
    "The infographic comparing medal counts from the 2008 Summer Olympic Games raises several ethical concerns. Firstly, the arrangement of countries by total medals in one table and by gold medals in another can lead to biased interpretations. This presentation might imply that gold medals are more valuable than overall performance, potentially overshadowing the achievements of countries with fewer golds but higher total medals1.\n",
    "\n",
    "Secondly, the infographic lacks context about the countries’ overall participation, such as the number of athletes or events participated in. This omission can skew perceptions of national success and does not provide a fair comparison2. Additionally, the visual emphasis on medal counts without considering close competitions or near-misses can misrepresent the true competitive landscape3.\n",
    "\n",
    "Lastly, the infographic does not address the potential for misinterpretation by viewers who may not understand the nuances of data representation. Ethical data visualization should aim for transparency and fairness, ensuring that the data is presented in a way that is both accurate and easily understood3.\n",
    "\n",
    "These concerns highlight the importance of ethical considerations in data visualization to avoid misleading or biased interpretations."
   ]
  }
 ],
 "metadata": {
  "colab": {
   "provenance": []
  },
  "kernelspec": {
   "display_name": "Python 3 (ipykernel)",
   "language": "python",
   "name": "python3"
  },
  "language_info": {
   "codemirror_mode": {
    "name": "ipython",
    "version": 3
   },
   "file_extension": ".py",
   "mimetype": "text/x-python",
   "name": "python",
   "nbconvert_exporter": "python",
   "pygments_lexer": "ipython3",
   "version": "3.12.4"
  }
 },
 "nbformat": 4,
 "nbformat_minor": 5
}
